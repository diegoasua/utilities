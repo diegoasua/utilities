{
 "cells": [
  {
   "cell_type": "code",
   "execution_count": 1,
   "metadata": {},
   "outputs": [],
   "source": [
    "from PIL import Image\n",
    "import numpy as np\n",
    "from pathlib import Path\n",
    "import os\n",
    "import re\n",
    "from tifffile import imsave"
   ]
  },
  {
   "cell_type": "markdown",
   "metadata": {},
   "source": [
    "**Instructions: Write path to data below and run all the cells**"
   ]
  },
  {
   "cell_type": "code",
   "execution_count": 22,
   "metadata": {},
   "outputs": [],
   "source": [
    "path_to_data = Path(\n",
    "    \"/gpfs/scratch/asuacd01/exp0001_2021/sh_test3.24-008\"\n",
    ")"
   ]
  },
  {
   "cell_type": "code",
   "execution_count": 23,
   "metadata": {},
   "outputs": [],
   "source": [
    "dataset = []\n",
    "files = os.listdir(path_to_data)\n",
    "r = re.compile(\".*tif\")\n",
    "files = list(filter(r.match, files)) # clean list of anything which is not .tif\n",
    "for file_name in files:\n",
    "    this_file = Image.open(path_to_data / file_name)\n",
    "    dataset.append(this_file)\n",
    "dataset = np.stack(dataset)"
   ]
  },
  {
   "cell_type": "code",
   "execution_count": 24,
   "metadata": {},
   "outputs": [
    {
     "name": "stdout",
     "output_type": "stream",
     "text": [
      " data strutcure: <class 'numpy.ndarray'> \n",
      " shape: (1600, 256, 256) \n",
      " dtype: uint16\n"
     ]
    }
   ],
   "source": [
    "print(f\" data strutcure: {type(dataset)} \\n shape: {dataset.shape} \\n dtype: {dataset.dtype}\")"
   ]
  },
  {
   "cell_type": "code",
   "execution_count": 25,
   "metadata": {},
   "outputs": [],
   "source": [
    "name = path_to_data.name + \".tif\"\n",
    "save_dir = Path(path_to_data).resolve().parents[0]\n",
    "imsave(save_dir / name, dataset)"
   ]
  }
 ],
 "metadata": {
  "kernelspec": {
   "display_name": "Python 3",
   "language": "python",
   "name": "python3"
  },
  "language_info": {
   "codemirror_mode": {
    "name": "ipython",
    "version": 3
   },
   "file_extension": ".py",
   "mimetype": "text/x-python",
   "name": "python",
   "nbconvert_exporter": "python",
   "pygments_lexer": "ipython3",
   "version": "3.8.5"
  }
 },
 "nbformat": 4,
 "nbformat_minor": 4
}
